{
 "cells": [
  {
   "cell_type": "code",
   "execution_count": 1,
   "metadata": {},
   "outputs": [
    {
     "ename": "SyntaxError",
     "evalue": "expected ':' (2971749672.py, line 23)",
     "output_type": "error",
     "traceback": [
      "\u001b[1;36m  Cell \u001b[1;32mIn[1], line 23\u001b[1;36m\u001b[0m\n\u001b[1;33m    for k in range()\u001b[0m\n\u001b[1;37m                    ^\u001b[0m\n\u001b[1;31mSyntaxError\u001b[0m\u001b[1;31m:\u001b[0m expected ':'\n"
     ]
    }
   ],
   "source": [
    "from tkinter import*\n",
    "import math\n",
    "import parso\n",
    "import tkinter.messagebox\n",
    "\n",
    "root = Tk()\n",
    "root.title(\"Scientific Calculator\")\n",
    "root.configure(background=\"powder blue\")\n",
    "root.resizable(width=False, height =False)\n",
    "root.geometry(\"400x568+0+0\")\n",
    "\n",
    "calc = Frame(root)\n",
    "calc.grid()\n",
    "\n",
    "TextDisplay = Entry(calc, font=('arial',20,'bold'), bg=\"powder blue\", bd=30, width=28, justify=RIGHT)\n",
    "TextDisplay.grid(row=0, column=0, columnspan=4, pady=1)\n",
    "TextDisplay.insert(0,\"0\")\n",
    "\n",
    "numberpad = \"789456123\"\n",
    "i = 0\n",
    "btn = []\n",
    "for j in range(2,5):\n",
    "    for k in range()\n",
    "    btn.append(Button(calc,width=6, height=2, font=('arial',20,'bold'),bd=4, text=numberpad[i]))\n",
    "    btn[i].grid(row=j, column= k, pady= 1)\n",
    "    i += 1\n",
    "MainFrame = Frame(root, bd=20, pady=2, relief=RIDGE)\n",
    "MainFrame.grid()\n",
    "calc =Frame(MainFrame, bd=20, pady=2, relief=RIDGE)\n",
    "calc.grid()\n",
    "\n",
    "#==========================================================Menu=================\n",
    "\n",
    "def iExit():\n",
    "    iExit = tkinter.messagebox.askyesno(\"Scientific Calculator\", \"confirm if you want to exit\")\n",
    "    if iExit > 0:\n",
    "        root.destroy()\n",
    "        return\n",
    "\n",
    "def Scientific():\n",
    "    root.resizable(width=False, height =False)\n",
    "    root.geometry(\"400x568+0+0\")  \n",
    "\n",
    "\n",
    "menubar = Menu(calc)\n",
    "\n",
    "filemenu = Menu(menubar, tearoff=0)\n",
    "menubar.add_cascade(label=\"File\", menu=filemenu)\n",
    "filemenu.add_command(label=\"Standard\", command= Standard)\n",
    "filemenu.add_command(label=\"Scientific\", command= Scientific)\n",
    "filemenu.add_separator()\n",
    "filemenu.add_command(label=\"Exit\", command= iExit)\n",
    "\n",
    "\n",
    "editmenu = Menu(menubar, tearoff=0)\n",
    "menubar.add_cascade(label=\"Edit\", menu=editmenu)\n",
    "filemenu.add_command(label=\"cut\")\n",
    "filemenu.add_command(label=\"copy\")\n",
    "filemenu.add_separator()\n",
    "filemenu.add_command(label=\"paste\")\n",
    "\n",
    "helpmenu = Menu(menubar, tearoff=0)\n",
    "menubar.add_cascade(label=\"help\", menu=helpmenu)\n",
    "filemenu.add_command(label=\"view help\")\n",
    "\n",
    "root.config(menu = menubar)\n",
    "\n",
    "\n",
    "\n",
    "\n",
    "root.mainloop()"
   ]
  },
  {
   "cell_type": "code",
   "execution_count": null,
   "metadata": {},
   "outputs": [],
   "source": []
  }
 ],
 "metadata": {
  "kernelspec": {
   "display_name": "Python 3",
   "language": "python",
   "name": "python3"
  },
  "language_info": {
   "codemirror_mode": {
    "name": "ipython",
    "version": 3
   },
   "file_extension": ".py",
   "mimetype": "text/x-python",
   "name": "python",
   "nbconvert_exporter": "python",
   "pygments_lexer": "ipython3",
   "version": "3.12.3"
  }
 },
 "nbformat": 4,
 "nbformat_minor": 2
}
